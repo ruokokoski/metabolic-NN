{
 "cells": [
  {
   "cell_type": "markdown",
   "id": "fda3d99b",
   "metadata": {},
   "source": [
    "# E. Coli exploration\n",
    "\n",
    "**Author: T. Ruokokoski**\n",
    "\n",
    "This notebook loads and inspects simple textbook model of E. Coli."
   ]
  },
  {
   "cell_type": "code",
   "execution_count": 1,
   "id": "1fd65a3e",
   "metadata": {},
   "outputs": [
    {
     "ename": "Exception",
     "evalue": "Could not find the map ecoli_core.Core metabolism on the server",
     "output_type": "error",
     "traceback": [
      "\u001b[31m---------------------------------------------------------------------------\u001b[39m",
      "\u001b[31mException\u001b[39m                                 Traceback (most recent call last)",
      "\u001b[36mCell\u001b[39m\u001b[36m \u001b[39m\u001b[32mIn[1]\u001b[39m\u001b[32m, line 7\u001b[39m\n\u001b[32m      4\u001b[39m model = cobra.io.load_model(\u001b[33m\"\u001b[39m\u001b[33mtextbook\u001b[39m\u001b[33m\"\u001b[39m)\n\u001b[32m      6\u001b[39m \u001b[38;5;66;03m# 2) Create an Escher Builder with the built-in core map\u001b[39;00m\n\u001b[32m----> \u001b[39m\u001b[32m7\u001b[39m b = \u001b[43mBuilder\u001b[49m\u001b[43m(\u001b[49m\n\u001b[32m      8\u001b[39m \u001b[43m    \u001b[49m\u001b[43mmodel_json\u001b[49m\u001b[43m      \u001b[49m\u001b[43m=\u001b[49m\u001b[43m \u001b[49m\u001b[43mmodel\u001b[49m\u001b[43m,\u001b[49m\n\u001b[32m      9\u001b[39m \u001b[43m    \u001b[49m\u001b[43mmap_name\u001b[49m\u001b[43m        \u001b[49m\u001b[43m=\u001b[49m\u001b[43m \u001b[49m\u001b[33;43m\"\u001b[39;49m\u001b[33;43mecoli_core.Core metabolism\u001b[39;49m\u001b[33;43m\"\u001b[39;49m\u001b[43m,\u001b[49m\n\u001b[32m     10\u001b[39m \u001b[43m    \u001b[49m\u001b[43mreaction_scale_width\u001b[49m\u001b[43m \u001b[49m\u001b[43m=\u001b[49m\u001b[43m \u001b[49m\u001b[32;43m1.0\u001b[39;49m\u001b[43m   \u001b[49m\u001b[38;5;66;43;03m# optional: how thick arrows are\u001b[39;49;00m\n\u001b[32m     11\u001b[39m \u001b[43m)\u001b[49m\n\u001b[32m     13\u001b[39m b\n",
      "\u001b[36mFile \u001b[39m\u001b[32m~/Work/metabolic-NN/.venv/lib/python3.12/site-packages/escher/plots.py:540\u001b[39m, in \u001b[36mBuilder.__init__\u001b[39m\u001b[34m(self, map_name, map_json, model, model_name, model_json, **kwargs)\u001b[39m\n\u001b[32m    538\u001b[39m     \u001b[38;5;28mself\u001b[39m.map_json = map_json\n\u001b[32m    539\u001b[39m \u001b[38;5;28;01melse\u001b[39;00m:\n\u001b[32m--> \u001b[39m\u001b[32m540\u001b[39m     \u001b[38;5;28;43mself\u001b[39;49m\u001b[43m.\u001b[49m\u001b[43mmap_name\u001b[49m = map_name\n\u001b[32m    542\u001b[39m \u001b[38;5;28;01mif\u001b[39;00m model:\n\u001b[32m    543\u001b[39m     \u001b[38;5;28;01mif\u001b[39;00m model_name:\n",
      "\u001b[36mFile \u001b[39m\u001b[32m~/Work/metabolic-NN/.venv/lib/python3.12/site-packages/traitlets/traitlets.py:716\u001b[39m, in \u001b[36mTraitType.__set__\u001b[39m\u001b[34m(self, obj, value)\u001b[39m\n\u001b[32m    714\u001b[39m \u001b[38;5;28;01mif\u001b[39;00m \u001b[38;5;28mself\u001b[39m.read_only:\n\u001b[32m    715\u001b[39m     \u001b[38;5;28;01mraise\u001b[39;00m TraitError(\u001b[33m'\u001b[39m\u001b[33mThe \u001b[39m\u001b[33m\"\u001b[39m\u001b[38;5;132;01m%s\u001b[39;00m\u001b[33m\"\u001b[39m\u001b[33m trait is read-only.\u001b[39m\u001b[33m'\u001b[39m % \u001b[38;5;28mself\u001b[39m.name)\n\u001b[32m--> \u001b[39m\u001b[32m716\u001b[39m \u001b[38;5;28;43mself\u001b[39;49m\u001b[43m.\u001b[49m\u001b[43mset\u001b[49m\u001b[43m(\u001b[49m\u001b[43mobj\u001b[49m\u001b[43m,\u001b[49m\u001b[43m \u001b[49m\u001b[43mvalue\u001b[49m\u001b[43m)\u001b[49m\n",
      "\u001b[36mFile \u001b[39m\u001b[32m~/Work/metabolic-NN/.venv/lib/python3.12/site-packages/traitlets/traitlets.py:706\u001b[39m, in \u001b[36mTraitType.set\u001b[39m\u001b[34m(self, obj, value)\u001b[39m\n\u001b[32m    702\u001b[39m     silent = \u001b[38;5;28;01mFalse\u001b[39;00m\n\u001b[32m    703\u001b[39m \u001b[38;5;28;01mif\u001b[39;00m silent \u001b[38;5;129;01mis\u001b[39;00m \u001b[38;5;129;01mnot\u001b[39;00m \u001b[38;5;28;01mTrue\u001b[39;00m:\n\u001b[32m    704\u001b[39m     \u001b[38;5;66;03m# we explicitly compare silent to True just in case the equality\u001b[39;00m\n\u001b[32m    705\u001b[39m     \u001b[38;5;66;03m# comparison above returns something other than True/False\u001b[39;00m\n\u001b[32m--> \u001b[39m\u001b[32m706\u001b[39m     \u001b[43mobj\u001b[49m\u001b[43m.\u001b[49m\u001b[43m_notify_trait\u001b[49m\u001b[43m(\u001b[49m\u001b[38;5;28;43mself\u001b[39;49m\u001b[43m.\u001b[49m\u001b[43mname\u001b[49m\u001b[43m,\u001b[49m\u001b[43m \u001b[49m\u001b[43mold_value\u001b[49m\u001b[43m,\u001b[49m\u001b[43m \u001b[49m\u001b[43mnew_value\u001b[49m\u001b[43m)\u001b[49m\n",
      "\u001b[36mFile \u001b[39m\u001b[32m~/Work/metabolic-NN/.venv/lib/python3.12/site-packages/traitlets/traitlets.py:1513\u001b[39m, in \u001b[36mHasTraits._notify_trait\u001b[39m\u001b[34m(self, name, old_value, new_value)\u001b[39m\n\u001b[32m   1512\u001b[39m \u001b[38;5;28;01mdef\u001b[39;00m\u001b[38;5;250m \u001b[39m\u001b[34m_notify_trait\u001b[39m(\u001b[38;5;28mself\u001b[39m, name: \u001b[38;5;28mstr\u001b[39m, old_value: t.Any, new_value: t.Any) -> \u001b[38;5;28;01mNone\u001b[39;00m:\n\u001b[32m-> \u001b[39m\u001b[32m1513\u001b[39m     \u001b[38;5;28;43mself\u001b[39;49m\u001b[43m.\u001b[49m\u001b[43mnotify_change\u001b[49m\u001b[43m(\u001b[49m\n\u001b[32m   1514\u001b[39m \u001b[43m        \u001b[49m\u001b[43mBunch\u001b[49m\u001b[43m(\u001b[49m\n\u001b[32m   1515\u001b[39m \u001b[43m            \u001b[49m\u001b[43mname\u001b[49m\u001b[43m=\u001b[49m\u001b[43mname\u001b[49m\u001b[43m,\u001b[49m\n\u001b[32m   1516\u001b[39m \u001b[43m            \u001b[49m\u001b[43mold\u001b[49m\u001b[43m=\u001b[49m\u001b[43mold_value\u001b[49m\u001b[43m,\u001b[49m\n\u001b[32m   1517\u001b[39m \u001b[43m            \u001b[49m\u001b[43mnew\u001b[49m\u001b[43m=\u001b[49m\u001b[43mnew_value\u001b[49m\u001b[43m,\u001b[49m\n\u001b[32m   1518\u001b[39m \u001b[43m            \u001b[49m\u001b[43mowner\u001b[49m\u001b[43m=\u001b[49m\u001b[38;5;28;43mself\u001b[39;49m\u001b[43m,\u001b[49m\n\u001b[32m   1519\u001b[39m \u001b[43m            \u001b[49m\u001b[38;5;28;43mtype\u001b[39;49m\u001b[43m=\u001b[49m\u001b[33;43m\"\u001b[39;49m\u001b[33;43mchange\u001b[39;49m\u001b[33;43m\"\u001b[39;49m\u001b[43m,\u001b[49m\n\u001b[32m   1520\u001b[39m \u001b[43m        \u001b[49m\u001b[43m)\u001b[49m\n\u001b[32m   1521\u001b[39m \u001b[43m    \u001b[49m\u001b[43m)\u001b[49m\n",
      "\u001b[36mFile \u001b[39m\u001b[32m~/Work/metabolic-NN/.venv/lib/python3.12/site-packages/ipywidgets/widgets/widget.py:687\u001b[39m, in \u001b[36mWidget.notify_change\u001b[39m\u001b[34m(self, change)\u001b[39m\n\u001b[32m    684\u001b[39m     \u001b[38;5;28;01mif\u001b[39;00m name \u001b[38;5;129;01min\u001b[39;00m \u001b[38;5;28mself\u001b[39m.keys \u001b[38;5;129;01mand\u001b[39;00m \u001b[38;5;28mself\u001b[39m._should_send_property(name, \u001b[38;5;28mgetattr\u001b[39m(\u001b[38;5;28mself\u001b[39m, name)):\n\u001b[32m    685\u001b[39m         \u001b[38;5;66;03m# Send new state to front-end\u001b[39;00m\n\u001b[32m    686\u001b[39m         \u001b[38;5;28mself\u001b[39m.send_state(key=name)\n\u001b[32m--> \u001b[39m\u001b[32m687\u001b[39m \u001b[38;5;28;43msuper\u001b[39;49m\u001b[43m(\u001b[49m\u001b[43mWidget\u001b[49m\u001b[43m,\u001b[49m\u001b[43m \u001b[49m\u001b[38;5;28;43mself\u001b[39;49m\u001b[43m)\u001b[49m\u001b[43m.\u001b[49m\u001b[43mnotify_change\u001b[49m\u001b[43m(\u001b[49m\u001b[43mchange\u001b[49m\u001b[43m)\u001b[49m\n",
      "\u001b[36mFile \u001b[39m\u001b[32m~/Work/metabolic-NN/.venv/lib/python3.12/site-packages/traitlets/traitlets.py:1525\u001b[39m, in \u001b[36mHasTraits.notify_change\u001b[39m\u001b[34m(self, change)\u001b[39m\n\u001b[32m   1523\u001b[39m \u001b[38;5;28;01mdef\u001b[39;00m\u001b[38;5;250m \u001b[39m\u001b[34mnotify_change\u001b[39m(\u001b[38;5;28mself\u001b[39m, change: Bunch) -> \u001b[38;5;28;01mNone\u001b[39;00m:\n\u001b[32m   1524\u001b[39m \u001b[38;5;250m    \u001b[39m\u001b[33;03m\"\"\"Notify observers of a change event\"\"\"\u001b[39;00m\n\u001b[32m-> \u001b[39m\u001b[32m1525\u001b[39m     \u001b[38;5;28;01mreturn\u001b[39;00m \u001b[38;5;28;43mself\u001b[39;49m\u001b[43m.\u001b[49m\u001b[43m_notify_observers\u001b[49m\u001b[43m(\u001b[49m\u001b[43mchange\u001b[49m\u001b[43m)\u001b[49m\n",
      "\u001b[36mFile \u001b[39m\u001b[32m~/Work/metabolic-NN/.venv/lib/python3.12/site-packages/traitlets/traitlets.py:1568\u001b[39m, in \u001b[36mHasTraits._notify_observers\u001b[39m\u001b[34m(self, event)\u001b[39m\n\u001b[32m   1565\u001b[39m \u001b[38;5;28;01melif\u001b[39;00m \u001b[38;5;28misinstance\u001b[39m(c, EventHandler) \u001b[38;5;129;01mand\u001b[39;00m c.name \u001b[38;5;129;01mis\u001b[39;00m \u001b[38;5;129;01mnot\u001b[39;00m \u001b[38;5;28;01mNone\u001b[39;00m:\n\u001b[32m   1566\u001b[39m     c = \u001b[38;5;28mgetattr\u001b[39m(\u001b[38;5;28mself\u001b[39m, c.name)\n\u001b[32m-> \u001b[39m\u001b[32m1568\u001b[39m \u001b[43mc\u001b[49m\u001b[43m(\u001b[49m\u001b[43mevent\u001b[49m\u001b[43m)\u001b[49m\n",
      "\u001b[36mFile \u001b[39m\u001b[32m~/Work/metabolic-NN/.venv/lib/python3.12/site-packages/escher/plots.py:339\u001b[39m, in \u001b[36mBuilder._observe_map_name\u001b[39m\u001b[34m(self, change)\u001b[39m\n\u001b[32m    336\u001b[39m \u001b[38;5;129m@observe\u001b[39m(\u001b[33m'\u001b[39m\u001b[33mmap_name\u001b[39m\u001b[33m'\u001b[39m)\n\u001b[32m    337\u001b[39m \u001b[38;5;28;01mdef\u001b[39;00m\u001b[38;5;250m \u001b[39m\u001b[34m_observe_map_name\u001b[39m(\u001b[38;5;28mself\u001b[39m, change):\n\u001b[32m    338\u001b[39m     \u001b[38;5;28;01mif\u001b[39;00m change.new:\n\u001b[32m--> \u001b[39m\u001b[32m339\u001b[39m         \u001b[38;5;28mself\u001b[39m._loaded_map_json = \u001b[43mmap_json_for_name\u001b[49m\u001b[43m(\u001b[49m\u001b[43mchange\u001b[49m\u001b[43m.\u001b[49m\u001b[43mnew\u001b[49m\u001b[43m)\u001b[49m\n\u001b[32m    340\u001b[39m     \u001b[38;5;28;01melse\u001b[39;00m:\n\u001b[32m    341\u001b[39m         \u001b[38;5;28mself\u001b[39m._loaded_map_json = \u001b[38;5;28;01mNone\u001b[39;00m\n",
      "\u001b[36mFile \u001b[39m\u001b[32m~/Work/metabolic-NN/.venv/lib/python3.12/site-packages/escher/plots.py:92\u001b[39m, in \u001b[36mmap_json_for_name\u001b[39m\u001b[34m(map_name)\u001b[39m\n\u001b[32m     91\u001b[39m \u001b[38;5;28;01mdef\u001b[39;00m\u001b[38;5;250m \u001b[39m\u001b[34mmap_json_for_name\u001b[39m(map_name):\n\u001b[32m---> \u001b[39m\u001b[32m92\u001b[39m     \u001b[38;5;28;01mreturn\u001b[39;00m \u001b[43m_json_for_name\u001b[49m\u001b[43m(\u001b[49m\u001b[43mmap_name\u001b[49m\u001b[43m,\u001b[49m\u001b[43m \u001b[49m\u001b[33;43m'\u001b[39;49m\u001b[33;43mmap\u001b[39;49m\u001b[33;43m'\u001b[39;49m\u001b[43m)\u001b[49m\n",
      "\u001b[36mFile \u001b[39m\u001b[32m~/Work/metabolic-NN/.venv/lib/python3.12/site-packages/escher/plots.py:71\u001b[39m, in \u001b[36m_json_for_name\u001b[39m\u001b[34m(name, kind)\u001b[39m\n\u001b[32m     69\u001b[39m match = match_in_index(name, server_index(), kind)\n\u001b[32m     70\u001b[39m \u001b[38;5;28;01mif\u001b[39;00m \u001b[38;5;28mlen\u001b[39m(match) == \u001b[32m0\u001b[39m:\n\u001b[32m---> \u001b[39m\u001b[32m71\u001b[39m     \u001b[38;5;28;01mraise\u001b[39;00m \u001b[38;5;167;01mException\u001b[39;00m(\u001b[33m'\u001b[39m\u001b[33mCould not find the \u001b[39m\u001b[38;5;132;01m{kind}\u001b[39;00m\u001b[33m \u001b[39m\u001b[38;5;132;01m{name}\u001b[39;00m\u001b[33m on the server\u001b[39m\u001b[33m'\u001b[39m\n\u001b[32m     72\u001b[39m                     .format(kind=kind, name=name))\n\u001b[32m     73\u001b[39m org, name = match[\u001b[32m0\u001b[39m]\n\u001b[32m     74\u001b[39m url = (\n\u001b[32m     75\u001b[39m     get_url(kind + \u001b[33m'\u001b[39m\u001b[33m_download\u001b[39m\u001b[33m'\u001b[39m) +\n\u001b[32m     76\u001b[39m     \u001b[33m'\u001b[39m\u001b[33m/\u001b[39m\u001b[33m'\u001b[39m.join([url_escape(x) \u001b[38;5;28;01mfor\u001b[39;00m x \u001b[38;5;129;01min\u001b[39;00m [org, name + \u001b[33m'\u001b[39m\u001b[33m.json\u001b[39m\u001b[33m'\u001b[39m]])\n\u001b[32m     77\u001b[39m )\n",
      "\u001b[31mException\u001b[39m: Could not find the map ecoli_core.Core metabolism on the server"
     ]
    }
   ],
   "source": [
    "from escher import Builder\n",
    "import cobra\n",
    "\n",
    "model = cobra.io.load_model(\"textbook\")\n",
    "\n",
    "# 2) Create an Escher Builder with the built-in core map\n",
    "b = Builder(\n",
    "    model_json      = model,\n",
    "    map_name        = \"ecoli_core.Core metabolism\",\n",
    "    reaction_scale_width = 1.0   # optional: how thick arrows are\n",
    ")\n",
    "\n",
    "b"
   ]
  }
 ],
 "metadata": {
  "kernelspec": {
   "display_name": ".venv",
   "language": "python",
   "name": "python3"
  },
  "language_info": {
   "codemirror_mode": {
    "name": "ipython",
    "version": 3
   },
   "file_extension": ".py",
   "mimetype": "text/x-python",
   "name": "python",
   "nbconvert_exporter": "python",
   "pygments_lexer": "ipython3",
   "version": "3.12.3"
  }
 },
 "nbformat": 4,
 "nbformat_minor": 5
}
