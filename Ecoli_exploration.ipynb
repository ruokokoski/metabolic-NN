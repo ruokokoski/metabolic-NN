{
 "cells": [
  {
   "cell_type": "markdown",
   "id": "fda3d99b",
   "metadata": {},
   "source": [
    "# E. Coli exploration\n",
    "\n",
    "**Author: T. Ruokokoski**\n",
    "\n",
    "This notebook loads and inspects simple textbook model of E. Coli."
   ]
  },
  {
   "cell_type": "code",
   "execution_count": null,
   "id": "1fd65a3e",
   "metadata": {},
   "outputs": [
    {
     "data": {
      "application/vnd.jupyter.widget-view+json": {
       "model_id": "4ac4c071cc714b2fa6b3f5cf8a8cb465",
       "version_major": 2,
       "version_minor": 0
      },
      "text/plain": [
       "Builder()"
      ]
     },
     "metadata": {},
     "output_type": "display_data"
    }
   ],
   "source": [
    "from escher import Builder\n",
    "import cobra\n",
    "from cobra.io import to_json\n",
    "\n",
    "# Load model\n",
    "model = cobra.io.load_model(\"textbook\")\n",
    "\n",
    "# Load map as raw JSON string\n",
    "with open(\"./models/e_coli_core.Core metabolism.json\", \"r\") as f:\n",
    "    map_json = f.read()\n",
    "\n",
    "# Create Escher builder\n",
    "b = Builder(\n",
    "    model_json=to_json(model),  # JSON string of the model\n",
    "    map_json=map_json,          # JSON string of the map\n",
    "    reaction_scale_width=1.0\n",
    ")\n",
    "\n",
    "b\n"
   ]
  }
 ],
 "metadata": {
  "kernelspec": {
   "display_name": ".venv",
   "language": "python",
   "name": "python3"
  },
  "language_info": {
   "codemirror_mode": {
    "name": "ipython",
    "version": 3
   },
   "file_extension": ".py",
   "mimetype": "text/x-python",
   "name": "python",
   "nbconvert_exporter": "python",
   "pygments_lexer": "ipython3",
   "version": "3.12.3"
  }
 },
 "nbformat": 4,
 "nbformat_minor": 5
}
